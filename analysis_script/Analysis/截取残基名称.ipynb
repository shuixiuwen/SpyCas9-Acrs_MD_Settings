{
 "cells": [
  {
   "cell_type": "code",
   "execution_count": 1,
   "metadata": {},
   "outputs": [],
   "source": [
    "import numpy as np\n",
    "import pandas as pd"
   ]
  },
  {
   "cell_type": "code",
   "execution_count": 6,
   "metadata": {},
   "outputs": [],
   "source": [
    "res_4un3 = pd.read_table(\"4un3_fixed_CA_P.txt\", sep= \"\\s+\", header= None)\n",
    "res_4zt0 = pd.read_table(\"4zt0_fixed_CA_P.txt\", sep= \"\\s+\", header= None)\n",
    "res_5xbl = pd.read_table(\"5xbl_fixed_CA_P.txt\", sep= \"\\s+\", header= None)\n",
    "res_6ifo = pd.read_table(\"6ifo_fixed_CA_P.txt\", sep= \"\\s+\", header= None)"
   ]
  },
  {
   "cell_type": "code",
   "execution_count": 19,
   "metadata": {},
   "outputs": [],
   "source": [
    "with pd.ExcelWriter(\"residue_name.xlsx\") as writer:\n",
    "    for re, name in zip([res_4zt0, res_4un3, res_5xbl, res_6ifo], \n",
    "    [\"4zt0_res\",  \"4un3_res\", \"5xbl_res\", \"6ifo_res\"]):\n",
    "        re.to_excel(writer, index= None, header= None, sheet_name = name)"
   ]
  },
  {
   "cell_type": "code",
   "execution_count": 23,
   "metadata": {},
   "outputs": [],
   "source": [
    "sheets = pd.read_excel(\"residue_name.xlsx\", sheet_name= None, header= None)\n",
    "with pd.ExcelWriter(\"residue_name_.xlsx\") as writer:\n",
    "    \n",
    "    for sheet_name, sheet_data in sheets.items():\n",
    "        nu = sheets[sheet_name].iloc[:, 1].str.extract(r'(\\d+)', expand= False)\n",
    "        sheet_data.insert(loc= len(sheet_data.columns), column= \"nu\", value= nu)\n",
    "        sheet_data.to_excel(writer, index= None, header= None, sheet_name = sheet_name)"
   ]
  },
  {
   "cell_type": "code",
   "execution_count": 32,
   "metadata": {},
   "outputs": [],
   "source": [
    "residue_dict = {\n",
    "    \"ALA\": \"A\", \"CYS\": \"C\", \"ASP\": \"D\", \"GLU\": \"E\", \"PHE\": \"F\",\n",
    "    \"GLY\": \"G\", \"HIS\": \"H\", \"ILE\": \"I\", \"LYS\": \"K\", \"LEU\": \"L\",\n",
    "    \"MET\": \"M\", \"ASN\": \"N\", \"PRO\": \"P\", \"GLN\": \"Q\", \"ARG\": \"R\",\n",
    "    \"SER\": \"S\", \"THR\": \"T\", \"VAL\": \"V\", \"TRP\": \"W\", \"TYR\": \"Y\"\n",
    "}"
   ]
  },
  {
   "cell_type": "code",
   "execution_count": 35,
   "metadata": {},
   "outputs": [],
   "source": [
    "with pd.ExcelWriter(\"residue_name_final.xlsx\") as writer:\n",
    "    sheet_name = [\"4zt0_res\",  \"4un3_res\", \"5xbl_res\", \"6ifo_res\"]\n",
    "    for name in sheet_name:\n",
    "        sheet = pd.read_excel(\"residue_name.xlsx\", sheet_name= name, \n",
    "                              header= None)\n",
    "        sheet[\"resi\"] = sheet.iloc[:, 0].str.upper().apply(lambda x: residue_dict.get(x, \"X\"))\n",
    "        sheet[\"resi_single\"] = sheet.iloc[:, 2] + sheet.iloc[:,1].map(str)\n",
    "        sheet[\"residue\"] = sheet.iloc[:, 0] + sheet.iloc[:,1].map(str)\n",
    "        sheet.to_excel(writer, sheet_name = name, index= None, \n",
    "                       header= [\"res\", \"num\", \"resi\", \"resi_single\", \n",
    "                                \"residue\"])"
   ]
  },
  {
   "cell_type": "code",
   "execution_count": null,
   "metadata": {},
   "outputs": [],
   "source": []
  }
 ],
 "metadata": {
  "kernelspec": {
   "display_name": "Python 3.9.13 ('base')",
   "language": "python",
   "name": "python3"
  },
  "language_info": {
   "codemirror_mode": {
    "name": "ipython",
    "version": 3
   },
   "file_extension": ".py",
   "mimetype": "text/x-python",
   "name": "python",
   "nbconvert_exporter": "python",
   "pygments_lexer": "ipython3",
   "version": "3.9.13"
  },
  "orig_nbformat": 4,
  "vscode": {
   "interpreter": {
    "hash": "5179d32cf6ec497baf3f8a3ef987cc77c5d2dc691fdde20a56316522f61a7323"
   }
  }
 },
 "nbformat": 4,
 "nbformat_minor": 2
}
